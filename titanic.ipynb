{
 "cells": [
  {
   "cell_type": "code",
   "execution_count": 1,
   "metadata": {
    "_cell_guid": "b1076dfc-b9ad-4769-8c92-a6c4dae69d19",
    "_uuid": "8f2839f25d086af736a60e9eeb907d3b93b6e0e5",
    "execution": {
     "iopub.execute_input": "2021-02-03T08:55:59.270052Z",
     "iopub.status.busy": "2021-02-03T08:55:59.269346Z",
     "iopub.status.idle": "2021-02-03T08:55:59.278391Z",
     "shell.execute_reply": "2021-02-03T08:55:59.278938Z"
    },
    "papermill": {
     "duration": 0.037051,
     "end_time": "2021-02-03T08:55:59.279347",
     "exception": false,
     "start_time": "2021-02-03T08:55:59.242296",
     "status": "completed"
    },
    "tags": []
   },
   "outputs": [
    {
     "name": "stdout",
     "output_type": "stream",
     "text": [
      "/kaggle/input/titanic/train.csv\n",
      "/kaggle/input/titanic/test.csv\n",
      "/kaggle/input/titanic/gender_submission.csv\n"
     ]
    }
   ],
   "source": [
    "# This Python 3 environment comes with many helpful analytics libraries installed\n",
    "# It is defined by the kaggle/python Docker image: https://github.com/kaggle/docker-python\n",
    "# For example, here's several helpful packages to load\n",
    "\n",
    "import numpy as np # linear algebra\n",
    "import pandas as pd # data processing, CSV file I/O (e.g. pd.read_csv)\n",
    "\n",
    "# Input data files are available in the read-only \"../input/\" directory\n",
    "# For example, running this (by clicking run or pressing Shift+Enter) will list all files under the input directory\n",
    "\n",
    "import os\n",
    "for dirname, _, filenames in os.walk('/kaggle/input'):\n",
    "    for filename in filenames:\n",
    "        print(os.path.join(dirname, filename))\n",
    "\n",
    "# You can write up to 20GB to the current directory (/kaggle/working/) that gets preserved as output when you create a version using \"Save & Run All\" \n",
    "# You can also write temporary files to /kaggle/temp/, but they won't be saved outside of the current session"
   ]
  },
  {
   "cell_type": "code",
   "execution_count": 2,
   "metadata": {
    "execution": {
     "iopub.execute_input": "2021-02-03T08:55:59.326500Z",
     "iopub.status.busy": "2021-02-03T08:55:59.325427Z",
     "iopub.status.idle": "2021-02-03T08:55:59.385770Z",
     "shell.execute_reply": "2021-02-03T08:55:59.386529Z"
    },
    "papermill": {
     "duration": 0.087554,
     "end_time": "2021-02-03T08:55:59.386787",
     "exception": false,
     "start_time": "2021-02-03T08:55:59.299233",
     "status": "completed"
    },
    "tags": []
   },
   "outputs": [
    {
     "name": "stdout",
     "output_type": "stream",
     "text": [
      "(891, 12)\n"
     ]
    },
    {
     "data": {
      "text/html": [
       "<div>\n",
       "<style scoped>\n",
       "    .dataframe tbody tr th:only-of-type {\n",
       "        vertical-align: middle;\n",
       "    }\n",
       "\n",
       "    .dataframe tbody tr th {\n",
       "        vertical-align: top;\n",
       "    }\n",
       "\n",
       "    .dataframe thead th {\n",
       "        text-align: right;\n",
       "    }\n",
       "</style>\n",
       "<table border=\"1\" class=\"dataframe\">\n",
       "  <thead>\n",
       "    <tr style=\"text-align: right;\">\n",
       "      <th></th>\n",
       "      <th>PassengerId</th>\n",
       "      <th>Survived</th>\n",
       "      <th>Pclass</th>\n",
       "      <th>Name</th>\n",
       "      <th>Sex</th>\n",
       "      <th>Age</th>\n",
       "      <th>SibSp</th>\n",
       "      <th>Parch</th>\n",
       "      <th>Ticket</th>\n",
       "      <th>Fare</th>\n",
       "      <th>Cabin</th>\n",
       "      <th>Embarked</th>\n",
       "    </tr>\n",
       "  </thead>\n",
       "  <tbody>\n",
       "    <tr>\n",
       "      <th>0</th>\n",
       "      <td>1</td>\n",
       "      <td>0</td>\n",
       "      <td>3</td>\n",
       "      <td>Braund, Mr. Owen Harris</td>\n",
       "      <td>male</td>\n",
       "      <td>22.0</td>\n",
       "      <td>1</td>\n",
       "      <td>0</td>\n",
       "      <td>A/5 21171</td>\n",
       "      <td>7.2500</td>\n",
       "      <td>NaN</td>\n",
       "      <td>S</td>\n",
       "    </tr>\n",
       "    <tr>\n",
       "      <th>1</th>\n",
       "      <td>2</td>\n",
       "      <td>1</td>\n",
       "      <td>1</td>\n",
       "      <td>Cumings, Mrs. John Bradley (Florence Briggs Th...</td>\n",
       "      <td>female</td>\n",
       "      <td>38.0</td>\n",
       "      <td>1</td>\n",
       "      <td>0</td>\n",
       "      <td>PC 17599</td>\n",
       "      <td>71.2833</td>\n",
       "      <td>C85</td>\n",
       "      <td>C</td>\n",
       "    </tr>\n",
       "    <tr>\n",
       "      <th>2</th>\n",
       "      <td>3</td>\n",
       "      <td>1</td>\n",
       "      <td>3</td>\n",
       "      <td>Heikkinen, Miss. Laina</td>\n",
       "      <td>female</td>\n",
       "      <td>26.0</td>\n",
       "      <td>0</td>\n",
       "      <td>0</td>\n",
       "      <td>STON/O2. 3101282</td>\n",
       "      <td>7.9250</td>\n",
       "      <td>NaN</td>\n",
       "      <td>S</td>\n",
       "    </tr>\n",
       "    <tr>\n",
       "      <th>3</th>\n",
       "      <td>4</td>\n",
       "      <td>1</td>\n",
       "      <td>1</td>\n",
       "      <td>Futrelle, Mrs. Jacques Heath (Lily May Peel)</td>\n",
       "      <td>female</td>\n",
       "      <td>35.0</td>\n",
       "      <td>1</td>\n",
       "      <td>0</td>\n",
       "      <td>113803</td>\n",
       "      <td>53.1000</td>\n",
       "      <td>C123</td>\n",
       "      <td>S</td>\n",
       "    </tr>\n",
       "    <tr>\n",
       "      <th>4</th>\n",
       "      <td>5</td>\n",
       "      <td>0</td>\n",
       "      <td>3</td>\n",
       "      <td>Allen, Mr. William Henry</td>\n",
       "      <td>male</td>\n",
       "      <td>35.0</td>\n",
       "      <td>0</td>\n",
       "      <td>0</td>\n",
       "      <td>373450</td>\n",
       "      <td>8.0500</td>\n",
       "      <td>NaN</td>\n",
       "      <td>S</td>\n",
       "    </tr>\n",
       "  </tbody>\n",
       "</table>\n",
       "</div>"
      ],
      "text/plain": [
       "   PassengerId  Survived  Pclass  \\\n",
       "0            1         0       3   \n",
       "1            2         1       1   \n",
       "2            3         1       3   \n",
       "3            4         1       1   \n",
       "4            5         0       3   \n",
       "\n",
       "                                                Name     Sex   Age  SibSp  \\\n",
       "0                            Braund, Mr. Owen Harris    male  22.0      1   \n",
       "1  Cumings, Mrs. John Bradley (Florence Briggs Th...  female  38.0      1   \n",
       "2                             Heikkinen, Miss. Laina  female  26.0      0   \n",
       "3       Futrelle, Mrs. Jacques Heath (Lily May Peel)  female  35.0      1   \n",
       "4                           Allen, Mr. William Henry    male  35.0      0   \n",
       "\n",
       "   Parch            Ticket     Fare Cabin Embarked  \n",
       "0      0         A/5 21171   7.2500   NaN        S  \n",
       "1      0          PC 17599  71.2833   C85        C  \n",
       "2      0  STON/O2. 3101282   7.9250   NaN        S  \n",
       "3      0            113803  53.1000  C123        S  \n",
       "4      0            373450   8.0500   NaN        S  "
      ]
     },
     "execution_count": 2,
     "metadata": {},
     "output_type": "execute_result"
    }
   ],
   "source": [
    "# loading the dataset\n",
    "titanic = pd.read_csv(\"../input/titanic/train.csv\")\n",
    "print(titanic.shape)\n",
    "titanic.head()"
   ]
  },
  {
   "cell_type": "code",
   "execution_count": 3,
   "metadata": {
    "execution": {
     "iopub.execute_input": "2021-02-03T08:55:59.433199Z",
     "iopub.status.busy": "2021-02-03T08:55:59.432468Z",
     "iopub.status.idle": "2021-02-03T08:56:00.388174Z",
     "shell.execute_reply": "2021-02-03T08:56:00.387536Z"
    },
    "papermill": {
     "duration": 0.981248,
     "end_time": "2021-02-03T08:56:00.388329",
     "exception": false,
     "start_time": "2021-02-03T08:55:59.407081",
     "status": "completed"
    },
    "tags": []
   },
   "outputs": [],
   "source": [
    "# loading packages\n",
    "import matplotlib.pyplot as plt\n",
    "import seaborn as sns\n",
    "import numpy.random as nr\n",
    "import math\n",
    "\n",
    "%matplotlib inline"
   ]
  },
  {
   "cell_type": "code",
   "execution_count": 4,
   "metadata": {
    "execution": {
     "iopub.execute_input": "2021-02-03T08:56:00.446337Z",
     "iopub.status.busy": "2021-02-03T08:56:00.445618Z",
     "iopub.status.idle": "2021-02-03T08:56:00.451749Z",
     "shell.execute_reply": "2021-02-03T08:56:00.451195Z"
    },
    "papermill": {
     "duration": 0.043823,
     "end_time": "2021-02-03T08:56:00.451918",
     "exception": false,
     "start_time": "2021-02-03T08:56:00.408095",
     "status": "completed"
    },
    "tags": []
   },
   "outputs": [
    {
     "name": "stdout",
     "output_type": "stream",
     "text": [
      "(891, 10)\n"
     ]
    },
    {
     "data": {
      "text/html": [
       "<div>\n",
       "<style scoped>\n",
       "    .dataframe tbody tr th:only-of-type {\n",
       "        vertical-align: middle;\n",
       "    }\n",
       "\n",
       "    .dataframe tbody tr th {\n",
       "        vertical-align: top;\n",
       "    }\n",
       "\n",
       "    .dataframe thead th {\n",
       "        text-align: right;\n",
       "    }\n",
       "</style>\n",
       "<table border=\"1\" class=\"dataframe\">\n",
       "  <thead>\n",
       "    <tr style=\"text-align: right;\">\n",
       "      <th></th>\n",
       "      <th>Survived</th>\n",
       "      <th>Pclass</th>\n",
       "      <th>Sex</th>\n",
       "      <th>Age</th>\n",
       "      <th>SibSp</th>\n",
       "      <th>Parch</th>\n",
       "      <th>Ticket</th>\n",
       "      <th>Fare</th>\n",
       "      <th>Cabin</th>\n",
       "      <th>Embarked</th>\n",
       "    </tr>\n",
       "  </thead>\n",
       "  <tbody>\n",
       "    <tr>\n",
       "      <th>0</th>\n",
       "      <td>0</td>\n",
       "      <td>3</td>\n",
       "      <td>male</td>\n",
       "      <td>22.0</td>\n",
       "      <td>1</td>\n",
       "      <td>0</td>\n",
       "      <td>A/5 21171</td>\n",
       "      <td>7.2500</td>\n",
       "      <td>NaN</td>\n",
       "      <td>S</td>\n",
       "    </tr>\n",
       "    <tr>\n",
       "      <th>1</th>\n",
       "      <td>1</td>\n",
       "      <td>1</td>\n",
       "      <td>female</td>\n",
       "      <td>38.0</td>\n",
       "      <td>1</td>\n",
       "      <td>0</td>\n",
       "      <td>PC 17599</td>\n",
       "      <td>71.2833</td>\n",
       "      <td>C85</td>\n",
       "      <td>C</td>\n",
       "    </tr>\n",
       "    <tr>\n",
       "      <th>2</th>\n",
       "      <td>1</td>\n",
       "      <td>3</td>\n",
       "      <td>female</td>\n",
       "      <td>26.0</td>\n",
       "      <td>0</td>\n",
       "      <td>0</td>\n",
       "      <td>STON/O2. 3101282</td>\n",
       "      <td>7.9250</td>\n",
       "      <td>NaN</td>\n",
       "      <td>S</td>\n",
       "    </tr>\n",
       "    <tr>\n",
       "      <th>3</th>\n",
       "      <td>1</td>\n",
       "      <td>1</td>\n",
       "      <td>female</td>\n",
       "      <td>35.0</td>\n",
       "      <td>1</td>\n",
       "      <td>0</td>\n",
       "      <td>113803</td>\n",
       "      <td>53.1000</td>\n",
       "      <td>C123</td>\n",
       "      <td>S</td>\n",
       "    </tr>\n",
       "    <tr>\n",
       "      <th>4</th>\n",
       "      <td>0</td>\n",
       "      <td>3</td>\n",
       "      <td>male</td>\n",
       "      <td>35.0</td>\n",
       "      <td>0</td>\n",
       "      <td>0</td>\n",
       "      <td>373450</td>\n",
       "      <td>8.0500</td>\n",
       "      <td>NaN</td>\n",
       "      <td>S</td>\n",
       "    </tr>\n",
       "  </tbody>\n",
       "</table>\n",
       "</div>"
      ],
      "text/plain": [
       "   Survived  Pclass     Sex   Age  SibSp  Parch            Ticket     Fare  \\\n",
       "0         0       3    male  22.0      1      0         A/5 21171   7.2500   \n",
       "1         1       1  female  38.0      1      0          PC 17599  71.2833   \n",
       "2         1       3  female  26.0      0      0  STON/O2. 3101282   7.9250   \n",
       "3         1       1  female  35.0      1      0            113803  53.1000   \n",
       "4         0       3    male  35.0      0      0            373450   8.0500   \n",
       "\n",
       "  Cabin Embarked  \n",
       "0   NaN        S  \n",
       "1   C85        C  \n",
       "2   NaN        S  \n",
       "3  C123        S  \n",
       "4   NaN        S  "
      ]
     },
     "execution_count": 4,
     "metadata": {},
     "output_type": "execute_result"
    }
   ],
   "source": [
    "# dropping passengerid and name since they are not features\n",
    "titanic.drop(['PassengerId', 'Name'], axis=1, inplace=True)\n",
    "print(titanic.shape)\n",
    "titanic.head()"
   ]
  },
  {
   "cell_type": "code",
   "execution_count": 5,
   "metadata": {
    "execution": {
     "iopub.execute_input": "2021-02-03T08:56:00.500231Z",
     "iopub.status.busy": "2021-02-03T08:56:00.499476Z",
     "iopub.status.idle": "2021-02-03T08:56:00.503263Z",
     "shell.execute_reply": "2021-02-03T08:56:00.502691Z"
    },
    "papermill": {
     "duration": 0.031304,
     "end_time": "2021-02-03T08:56:00.503418",
     "exception": false,
     "start_time": "2021-02-03T08:56:00.472114",
     "status": "completed"
    },
    "tags": []
   },
   "outputs": [
    {
     "data": {
      "text/plain": [
       "Survived      int64\n",
       "Pclass        int64\n",
       "Sex          object\n",
       "Age         float64\n",
       "SibSp         int64\n",
       "Parch         int64\n",
       "Ticket       object\n",
       "Fare        float64\n",
       "Cabin        object\n",
       "Embarked     object\n",
       "dtype: object"
      ]
     },
     "execution_count": 5,
     "metadata": {},
     "output_type": "execute_result"
    }
   ],
   "source": [
    "# checking the column types\n",
    "titanic.dtypes"
   ]
  },
  {
   "cell_type": "code",
   "execution_count": 6,
   "metadata": {
    "execution": {
     "iopub.execute_input": "2021-02-03T08:56:00.548182Z",
     "iopub.status.busy": "2021-02-03T08:56:00.547535Z",
     "iopub.status.idle": "2021-02-03T08:56:00.566923Z",
     "shell.execute_reply": "2021-02-03T08:56:00.566203Z"
    },
    "papermill": {
     "duration": 0.042805,
     "end_time": "2021-02-03T08:56:00.567072",
     "exception": false,
     "start_time": "2021-02-03T08:56:00.524267",
     "status": "completed"
    },
    "tags": []
   },
   "outputs": [
    {
     "data": {
      "text/html": [
       "<div>\n",
       "<style scoped>\n",
       "    .dataframe tbody tr th:only-of-type {\n",
       "        vertical-align: middle;\n",
       "    }\n",
       "\n",
       "    .dataframe tbody tr th {\n",
       "        vertical-align: top;\n",
       "    }\n",
       "\n",
       "    .dataframe thead th {\n",
       "        text-align: right;\n",
       "    }\n",
       "</style>\n",
       "<table border=\"1\" class=\"dataframe\">\n",
       "  <thead>\n",
       "    <tr style=\"text-align: right;\">\n",
       "      <th></th>\n",
       "      <th>Survived</th>\n",
       "      <th>Pclass</th>\n",
       "      <th>Sex</th>\n",
       "      <th>Age</th>\n",
       "      <th>SibSp</th>\n",
       "      <th>Parch</th>\n",
       "      <th>Ticket</th>\n",
       "      <th>Fare</th>\n",
       "      <th>Cabin</th>\n",
       "      <th>Embarked</th>\n",
       "    </tr>\n",
       "  </thead>\n",
       "  <tbody>\n",
       "    <tr>\n",
       "      <th>0</th>\n",
       "      <td>0</td>\n",
       "      <td>Lower</td>\n",
       "      <td>male</td>\n",
       "      <td>22.0</td>\n",
       "      <td>1</td>\n",
       "      <td>0</td>\n",
       "      <td>A/5 21171</td>\n",
       "      <td>7.2500</td>\n",
       "      <td>NaN</td>\n",
       "      <td>S</td>\n",
       "    </tr>\n",
       "    <tr>\n",
       "      <th>1</th>\n",
       "      <td>1</td>\n",
       "      <td>Upper</td>\n",
       "      <td>female</td>\n",
       "      <td>38.0</td>\n",
       "      <td>1</td>\n",
       "      <td>0</td>\n",
       "      <td>PC 17599</td>\n",
       "      <td>71.2833</td>\n",
       "      <td>C85</td>\n",
       "      <td>C</td>\n",
       "    </tr>\n",
       "    <tr>\n",
       "      <th>2</th>\n",
       "      <td>1</td>\n",
       "      <td>Lower</td>\n",
       "      <td>female</td>\n",
       "      <td>26.0</td>\n",
       "      <td>0</td>\n",
       "      <td>0</td>\n",
       "      <td>STON/O2. 3101282</td>\n",
       "      <td>7.9250</td>\n",
       "      <td>NaN</td>\n",
       "      <td>S</td>\n",
       "    </tr>\n",
       "    <tr>\n",
       "      <th>3</th>\n",
       "      <td>1</td>\n",
       "      <td>Upper</td>\n",
       "      <td>female</td>\n",
       "      <td>35.0</td>\n",
       "      <td>1</td>\n",
       "      <td>0</td>\n",
       "      <td>113803</td>\n",
       "      <td>53.1000</td>\n",
       "      <td>C123</td>\n",
       "      <td>S</td>\n",
       "    </tr>\n",
       "    <tr>\n",
       "      <th>4</th>\n",
       "      <td>0</td>\n",
       "      <td>Lower</td>\n",
       "      <td>male</td>\n",
       "      <td>35.0</td>\n",
       "      <td>0</td>\n",
       "      <td>0</td>\n",
       "      <td>373450</td>\n",
       "      <td>8.0500</td>\n",
       "      <td>NaN</td>\n",
       "      <td>S</td>\n",
       "    </tr>\n",
       "  </tbody>\n",
       "</table>\n",
       "</div>"
      ],
      "text/plain": [
       "   Survived Pclass     Sex   Age  SibSp  Parch            Ticket     Fare  \\\n",
       "0         0  Lower    male  22.0      1      0         A/5 21171   7.2500   \n",
       "1         1  Upper  female  38.0      1      0          PC 17599  71.2833   \n",
       "2         1  Lower  female  26.0      0      0  STON/O2. 3101282   7.9250   \n",
       "3         1  Upper  female  35.0      1      0            113803  53.1000   \n",
       "4         0  Lower    male  35.0      0      0            373450   8.0500   \n",
       "\n",
       "  Cabin Embarked  \n",
       "0   NaN        S  \n",
       "1   C85        C  \n",
       "2   NaN        S  \n",
       "3  C123        S  \n",
       "4   NaN        S  "
      ]
     },
     "execution_count": 6,
     "metadata": {},
     "output_type": "execute_result"
    }
   ],
   "source": [
    "# changing Pclass to categorical variable\n",
    "dic = {1:'Upper', 2:'Middle', 3:'Lower'}\n",
    "titanic['Pclass'] = [dic[x] for x in titanic['Pclass']]\n",
    "titanic.head()"
   ]
  },
  {
   "cell_type": "code",
   "execution_count": 7,
   "metadata": {
    "execution": {
     "iopub.execute_input": "2021-02-03T08:56:00.617162Z",
     "iopub.status.busy": "2021-02-03T08:56:00.616390Z",
     "iopub.status.idle": "2021-02-03T08:56:00.635988Z",
     "shell.execute_reply": "2021-02-03T08:56:00.635445Z"
    },
    "papermill": {
     "duration": 0.047801,
     "end_time": "2021-02-03T08:56:00.636148",
     "exception": false,
     "start_time": "2021-02-03T08:56:00.588347",
     "status": "completed"
    },
    "tags": []
   },
   "outputs": [
    {
     "name": "stdout",
     "output_type": "stream",
     "text": [
      "(891, 9)\n"
     ]
    },
    {
     "data": {
      "text/html": [
       "<div>\n",
       "<style scoped>\n",
       "    .dataframe tbody tr th:only-of-type {\n",
       "        vertical-align: middle;\n",
       "    }\n",
       "\n",
       "    .dataframe tbody tr th {\n",
       "        vertical-align: top;\n",
       "    }\n",
       "\n",
       "    .dataframe thead th {\n",
       "        text-align: right;\n",
       "    }\n",
       "</style>\n",
       "<table border=\"1\" class=\"dataframe\">\n",
       "  <thead>\n",
       "    <tr style=\"text-align: right;\">\n",
       "      <th></th>\n",
       "      <th>Survived</th>\n",
       "      <th>Pclass</th>\n",
       "      <th>Sex</th>\n",
       "      <th>Age</th>\n",
       "      <th>SibSp</th>\n",
       "      <th>Parch</th>\n",
       "      <th>Ticket</th>\n",
       "      <th>Fare</th>\n",
       "      <th>Embarked</th>\n",
       "    </tr>\n",
       "  </thead>\n",
       "  <tbody>\n",
       "    <tr>\n",
       "      <th>0</th>\n",
       "      <td>0</td>\n",
       "      <td>Lower</td>\n",
       "      <td>male</td>\n",
       "      <td>22.0</td>\n",
       "      <td>1</td>\n",
       "      <td>0</td>\n",
       "      <td>A/5 21171</td>\n",
       "      <td>7.2500</td>\n",
       "      <td>S</td>\n",
       "    </tr>\n",
       "    <tr>\n",
       "      <th>1</th>\n",
       "      <td>1</td>\n",
       "      <td>Upper</td>\n",
       "      <td>female</td>\n",
       "      <td>38.0</td>\n",
       "      <td>1</td>\n",
       "      <td>0</td>\n",
       "      <td>PC 17599</td>\n",
       "      <td>71.2833</td>\n",
       "      <td>C</td>\n",
       "    </tr>\n",
       "    <tr>\n",
       "      <th>2</th>\n",
       "      <td>1</td>\n",
       "      <td>Lower</td>\n",
       "      <td>female</td>\n",
       "      <td>26.0</td>\n",
       "      <td>0</td>\n",
       "      <td>0</td>\n",
       "      <td>STON/O2. 3101282</td>\n",
       "      <td>7.9250</td>\n",
       "      <td>S</td>\n",
       "    </tr>\n",
       "    <tr>\n",
       "      <th>3</th>\n",
       "      <td>1</td>\n",
       "      <td>Upper</td>\n",
       "      <td>female</td>\n",
       "      <td>35.0</td>\n",
       "      <td>1</td>\n",
       "      <td>0</td>\n",
       "      <td>113803</td>\n",
       "      <td>53.1000</td>\n",
       "      <td>S</td>\n",
       "    </tr>\n",
       "    <tr>\n",
       "      <th>4</th>\n",
       "      <td>0</td>\n",
       "      <td>Lower</td>\n",
       "      <td>male</td>\n",
       "      <td>35.0</td>\n",
       "      <td>0</td>\n",
       "      <td>0</td>\n",
       "      <td>373450</td>\n",
       "      <td>8.0500</td>\n",
       "      <td>S</td>\n",
       "    </tr>\n",
       "  </tbody>\n",
       "</table>\n",
       "</div>"
      ],
      "text/plain": [
       "   Survived Pclass     Sex   Age  SibSp  Parch            Ticket     Fare  \\\n",
       "0         0  Lower    male  22.0      1      0         A/5 21171   7.2500   \n",
       "1         1  Upper  female  38.0      1      0          PC 17599  71.2833   \n",
       "2         1  Lower  female  26.0      0      0  STON/O2. 3101282   7.9250   \n",
       "3         1  Upper  female  35.0      1      0            113803  53.1000   \n",
       "4         0  Lower    male  35.0      0      0            373450   8.0500   \n",
       "\n",
       "  Embarked  \n",
       "0        S  \n",
       "1        C  \n",
       "2        S  \n",
       "3        S  \n",
       "4        S  "
      ]
     },
     "execution_count": 7,
     "metadata": {},
     "output_type": "execute_result"
    }
   ],
   "source": [
    "# dropping cabin because it has got alot of missing values\n",
    "titanic.drop(['Cabin'], axis=1, inplace=True)\n",
    "print(titanic.shape)\n",
    "titanic.head()"
   ]
  },
  {
   "cell_type": "code",
   "execution_count": 8,
   "metadata": {
    "execution": {
     "iopub.execute_input": "2021-02-03T08:56:00.690688Z",
     "iopub.status.busy": "2021-02-03T08:56:00.689942Z",
     "iopub.status.idle": "2021-02-03T08:56:00.693727Z",
     "shell.execute_reply": "2021-02-03T08:56:00.693034Z"
    },
    "papermill": {
     "duration": 0.035223,
     "end_time": "2021-02-03T08:56:00.693912",
     "exception": false,
     "start_time": "2021-02-03T08:56:00.658689",
     "status": "completed"
    },
    "tags": []
   },
   "outputs": [
    {
     "name": "stdout",
     "output_type": "stream",
     "text": [
      "0    549\n",
      "1    342\n",
      "Name: Survived, dtype: int64\n"
     ]
    }
   ],
   "source": [
    "# checking for class imbalance\n",
    "survival_counts = titanic['Survived'].value_counts()\n",
    "print(survival_counts)"
   ]
  },
  {
   "cell_type": "code",
   "execution_count": 9,
   "metadata": {
    "execution": {
     "iopub.execute_input": "2021-02-03T08:56:00.749635Z",
     "iopub.status.busy": "2021-02-03T08:56:00.748934Z",
     "iopub.status.idle": "2021-02-03T08:56:00.776166Z",
     "shell.execute_reply": "2021-02-03T08:56:00.775094Z"
    },
    "papermill": {
     "duration": 0.059706,
     "end_time": "2021-02-03T08:56:00.776340",
     "exception": false,
     "start_time": "2021-02-03T08:56:00.716634",
     "status": "completed"
    },
    "tags": []
   },
   "outputs": [
    {
     "name": "stdout",
     "output_type": "stream",
     "text": [
      "(712, 9)\n"
     ]
    }
   ],
   "source": [
    "# removing rows with missing values\n",
    "titanic.dropna(axis=0, inplace=True)\n",
    "print(titanic.shape)"
   ]
  },
  {
   "cell_type": "code",
   "execution_count": 10,
   "metadata": {
    "execution": {
     "iopub.execute_input": "2021-02-03T08:56:00.830090Z",
     "iopub.status.busy": "2021-02-03T08:56:00.829324Z",
     "iopub.status.idle": "2021-02-03T08:56:01.677716Z",
     "shell.execute_reply": "2021-02-03T08:56:01.677153Z"
    },
    "papermill": {
     "duration": 0.878467,
     "end_time": "2021-02-03T08:56:01.677911",
     "exception": false,
     "start_time": "2021-02-03T08:56:00.799444",
     "status": "completed"
    },
    "tags": []
   },
   "outputs": [
    {
     "name": "stderr",
     "output_type": "stream",
     "text": [
      "/opt/conda/lib/python3.7/site-packages/seaborn/_decorators.py:43: FutureWarning: Pass the following variables as keyword args: x, y. From version 0.12, the only valid positional argument will be `data`, and passing other arguments without an explicit keyword will result in an error or misinterpretation.\n",
      "  FutureWarning\n"
     ]
    },
    {
     "data": {
      "image/png": "[encoded data removed]",
      "text/plain": [
       "<Figure size 432x288 with 1 Axes>"
      ]
     },
     "metadata": {},
     "output_type": "display_data"
    },
    {
     "name": "stderr",
     "output_type": "stream",
     "text": [
      "/opt/conda/lib/python3.7/site-packages/seaborn/_decorators.py:43: FutureWarning: Pass the following variables as keyword args: x, y. From version 0.12, the only valid positional argument will be `data`, and passing other arguments without an explicit keyword will result in an error or misinterpretation.\n",
      "  FutureWarning\n"
     ]
    },
    {
     "data": {
      "image/png": "[encoded data removed]",
      "text/plain": [
       "<Figure size 432x288 with 1 Axes>"
      ]
     },
     "metadata": {},
     "output_type": "display_data"
    },
    {
     "name": "stderr",
     "output_type": "stream",
     "text": [
      "/opt/conda/lib/python3.7/site-packages/seaborn/_decorators.py:43: FutureWarning: Pass the following variables as keyword args: x, y. From version 0.12, the only valid positional argument will be `data`, and passing other arguments without an explicit keyword will result in an error or misinterpretation.\n",
      "  FutureWarning\n"
     ]
    },
    {
     "data": {
      "image/png": "[encoded data removed]",
      "text/plain": [
       "<Figure size 432x288 with 1 Axes>"
      ]
     },
     "metadata": {},
     "output_type": "display_data"
    },
    {
     "name": "stderr",
     "output_type": "stream",
     "text": [
      "/opt/conda/lib/python3.7/site-packages/seaborn/_decorators.py:43: FutureWarning: Pass the following variables as keyword args: x, y. From version 0.12, the only valid positional argument will be `data`, and passing other arguments without an explicit keyword will result in an error or misinterpretation.\n",
      "  FutureWarning\n"
     ]
    },
    {
     "data": {
      "image/png": "[encoded data removed]",
      "text/plain": [
       "<Figure size 432x288 with 1 Axes>"
      ]
     },
     "metadata": {},
     "output_type": "display_data"
    }
   ],
   "source": [
    "# visualizing class separation by numeric features\n",
    "def plot_box(titanic, cols, col_x = 'Survived'):\n",
    "    for col in cols:\n",
    "        sns.set_style(\"whitegrid\")\n",
    "        sns.boxplot(col_x, col, data=titanic)\n",
    "        plt.xlabel(col_x) # Set text for the x axis\n",
    "        plt.ylabel(col)# Set text for y axis\n",
    "        plt.show()\n",
    "\n",
    "num_cols = ['Age', 'SibSp', 'Parch', 'Fare']\n",
    "plot_box(titanic, num_cols)"
   ]
  },
  {
   "cell_type": "code",
   "execution_count": 11,
   "metadata": {
    "execution": {
     "iopub.execute_input": "2021-02-03T08:56:01.750705Z",
     "iopub.status.busy": "2021-02-03T08:56:01.746012Z",
     "iopub.status.idle": "2021-02-03T08:56:02.591043Z",
     "shell.execute_reply": "2021-02-03T08:56:02.590493Z"
    },
    "papermill": {
     "duration": 0.885839,
     "end_time": "2021-02-03T08:56:02.591204",
     "exception": false,
     "start_time": "2021-02-03T08:56:01.705365",
     "status": "completed"
    },
    "tags": []
   },
   "outputs": [
    {
     "name": "stdout",
     "output_type": "stream",
     "text": [
      "Pclass\n"
     ]
    },
    {
     "data": {
      "image/png": "[encoded data removed]",
      "text/plain": [
       "<Figure size 720x288 with 2 Axes>"
      ]
     },
     "metadata": {},
     "output_type": "display_data"
    },
    {
     "name": "stdout",
     "output_type": "stream",
     "text": [
      "Sex\n"
     ]
    },
    {
     "data": {
      "image/png": "[encoded data removed]",
      "text/plain": [
       "<Figure size 720x288 with 2 Axes>"
      ]
     },
     "metadata": {},
     "output_type": "display_data"
    },
    {
     "name": "stdout",
     "output_type": "stream",
     "text": [
      "Embarked\n"
     ]
    },
    {
     "data": {
      "image/png": "[encoded data removed]",
      "text/plain": [
       "<Figure size 720x288 with 2 Axes>"
      ]
     },
     "metadata": {},
     "output_type": "display_data"
    }
   ],
   "source": [
    "# visualize class separation by categorical features\n",
    "cat_cols = ['Pclass', 'Sex', 'Embarked']\n",
    "\n",
    "titanic['dummy'] = np.ones(shape = titanic.shape[0])\n",
    "for col in cat_cols:\n",
    "    print(col)\n",
    "    counts = titanic[['dummy', 'Survived', col]].groupby(['Survived', col], as_index = False).count()\n",
    "    temp = counts[counts['Survived'] == 0][[col, 'dummy']]\n",
    "    _ = plt.figure(figsize = (10,4))\n",
    "    plt.subplot(1, 2, 1)\n",
    "    temp = counts[counts['Survived'] == 0][[col, 'dummy']]\n",
    "    plt.bar(temp[col], temp.dummy)\n",
    "    plt.xticks(rotation=90)\n",
    "    plt.title('Counts for ' + col + '\\n Did not Survive')\n",
    "    plt.ylabel('count')\n",
    "    plt.subplot(1, 2, 2)\n",
    "    temp = counts[counts['Survived'] == 1][[col, 'dummy']]\n",
    "    plt.bar(temp[col], temp.dummy)\n",
    "    plt.xticks(rotation=90)\n",
    "    plt.title('Counts for ' + col + '\\n Survived')\n",
    "    plt.ylabel('count')\n",
    "    plt.show()\n"
   ]
  },
  {
   "cell_type": "code",
   "execution_count": 12,
   "metadata": {
    "execution": {
     "iopub.execute_input": "2021-02-03T08:56:02.659064Z",
     "iopub.status.busy": "2021-02-03T08:56:02.658210Z",
     "iopub.status.idle": "2021-02-03T08:56:02.988738Z",
     "shell.execute_reply": "2021-02-03T08:56:02.988027Z"
    },
    "papermill": {
     "duration": 0.366956,
     "end_time": "2021-02-03T08:56:02.988925",
     "exception": false,
     "start_time": "2021-02-03T08:56:02.621969",
     "status": "completed"
    },
    "tags": []
   },
   "outputs": [],
   "source": [
    "# loading packages for logisticregression\n",
    "from sklearn import preprocessing\n",
    "import sklearn.model_selection as ms\n",
    "from sklearn import linear_model\n",
    "import sklearn.metrics as sklm"
   ]
  },
  {
   "cell_type": "code",
   "execution_count": 13,
   "metadata": {
    "execution": {
     "iopub.execute_input": "2021-02-03T08:56:03.057522Z",
     "iopub.status.busy": "2021-02-03T08:56:03.056773Z",
     "iopub.status.idle": "2021-02-03T08:56:03.060293Z",
     "shell.execute_reply": "2021-02-03T08:56:03.059568Z"
    },
    "papermill": {
     "duration": 0.039963,
     "end_time": "2021-02-03T08:56:03.060452",
     "exception": false,
     "start_time": "2021-02-03T08:56:03.020489",
     "status": "completed"
    },
    "tags": []
   },
   "outputs": [],
   "source": [
    "# preparing data for scikit learn model\n",
    "# craeting a numpy array of the label value\n",
    "labels = np.array(titanic['Survived'])\n"
   ]
  },
  {
   "cell_type": "code",
   "execution_count": 14,
   "metadata": {
    "execution": {
     "iopub.execute_input": "2021-02-03T08:56:03.134219Z",
     "iopub.status.busy": "2021-02-03T08:56:03.133427Z",
     "iopub.status.idle": "2021-02-03T08:56:03.142569Z",
     "shell.execute_reply": "2021-02-03T08:56:03.141964Z"
    },
    "papermill": {
     "duration": 0.050513,
     "end_time": "2021-02-03T08:56:03.142735",
     "exception": false,
     "start_time": "2021-02-03T08:56:03.092222",
     "status": "completed"
    },
    "tags": []
   },
   "outputs": [
    {
     "name": "stdout",
     "output_type": "stream",
     "text": [
      "(712, 3)\n",
      "(712, 5)\n",
      "[[1. 0. 0. 0. 1.]\n",
      " [0. 0. 1. 1. 0.]]\n"
     ]
    }
   ],
   "source": [
    "# creating a model matrix for training dataset\n",
    "def encode_string(cat_features):\n",
    "    ## First encode the strings to numeric categories\n",
    "    enc = preprocessing.LabelEncoder()\n",
    "    enc.fit(cat_features)\n",
    "    enc_cat_features = enc.transform(cat_features)\n",
    "    ## Now, apply one hot encoding\n",
    "    ohe = preprocessing.OneHotEncoder()\n",
    "    encoded = ohe.fit(enc_cat_features.reshape(-1,1))\n",
    "    return encoded.transform(enc_cat_features.reshape(-1,1)).toarray()\n",
    "\n",
    "categorical_columns = ['Sex']\n",
    "\n",
    "Features = encode_string(titanic['Pclass'])\n",
    "print(Features.shape)\n",
    "for col in categorical_columns:\n",
    "    temporary = encode_string(titanic[col])\n",
    "    Features = np.concatenate([Features, temporary], axis = 1)\n",
    "\n",
    "print(Features.shape)\n",
    "print(Features[:2, :])    "
   ]
  },
  {
   "cell_type": "code",
   "execution_count": 15,
   "metadata": {
    "execution": {
     "iopub.execute_input": "2021-02-03T08:56:03.214999Z",
     "iopub.status.busy": "2021-02-03T08:56:03.214296Z",
     "iopub.status.idle": "2021-02-03T08:56:03.217624Z",
     "shell.execute_reply": "2021-02-03T08:56:03.218170Z"
    },
    "papermill": {
     "duration": 0.043705,
     "end_time": "2021-02-03T08:56:03.218368",
     "exception": false,
     "start_time": "2021-02-03T08:56:03.174663",
     "status": "completed"
    },
    "tags": []
   },
   "outputs": [
    {
     "name": "stdout",
     "output_type": "stream",
     "text": [
      "(712, 7)\n",
      "[[1. 0. 0. 0. 1. 0. 1.]\n",
      " [0. 0. 1. 1. 0. 0. 1.]]\n"
     ]
    }
   ],
   "source": [
    "# adding numeric features to the numpy array\n",
    "Features = np.concatenate([Features, np.array(titanic[['Parch', 'SibSp']])], axis = 1)\n",
    "print(Features.shape)\n",
    "print(Features[:2, :])"
   ]
  },
  {
   "cell_type": "code",
   "execution_count": 16,
   "metadata": {
    "execution": {
     "iopub.execute_input": "2021-02-03T08:56:03.289331Z",
     "iopub.status.busy": "2021-02-03T08:56:03.288358Z",
     "iopub.status.idle": "2021-02-03T08:56:03.316387Z",
     "shell.execute_reply": "2021-02-03T08:56:03.315689Z"
    },
    "papermill": {
     "duration": 0.065778,
     "end_time": "2021-02-03T08:56:03.316561",
     "exception": false,
     "start_time": "2021-02-03T08:56:03.250783",
     "status": "completed"
    },
    "tags": []
   },
   "outputs": [
    {
     "data": {
      "text/html": [
       "<div>\n",
       "<style scoped>\n",
       "    .dataframe tbody tr th:only-of-type {\n",
       "        vertical-align: middle;\n",
       "    }\n",
       "\n",
       "    .dataframe tbody tr th {\n",
       "        vertical-align: top;\n",
       "    }\n",
       "\n",
       "    .dataframe thead th {\n",
       "        text-align: right;\n",
       "    }\n",
       "</style>\n",
       "<table border=\"1\" class=\"dataframe\">\n",
       "  <thead>\n",
       "    <tr style=\"text-align: right;\">\n",
       "      <th></th>\n",
       "      <th>PassengerId</th>\n",
       "      <th>Pclass</th>\n",
       "      <th>Name</th>\n",
       "      <th>Sex</th>\n",
       "      <th>Age</th>\n",
       "      <th>SibSp</th>\n",
       "      <th>Parch</th>\n",
       "      <th>Ticket</th>\n",
       "      <th>Fare</th>\n",
       "      <th>Cabin</th>\n",
       "      <th>Embarked</th>\n",
       "    </tr>\n",
       "  </thead>\n",
       "  <tbody>\n",
       "    <tr>\n",
       "      <th>0</th>\n",
       "      <td>892</td>\n",
       "      <td>3</td>\n",
       "      <td>Kelly, Mr. James</td>\n",
       "      <td>male</td>\n",
       "      <td>34.5</td>\n",
       "      <td>0</td>\n",
       "      <td>0</td>\n",
       "      <td>330911</td>\n",
       "      <td>7.8292</td>\n",
       "      <td>NaN</td>\n",
       "      <td>Q</td>\n",
       "    </tr>\n",
       "    <tr>\n",
       "      <th>1</th>\n",
       "      <td>893</td>\n",
       "      <td>3</td>\n",
       "      <td>Wilkes, Mrs. James (Ellen Needs)</td>\n",
       "      <td>female</td>\n",
       "      <td>47.0</td>\n",
       "      <td>1</td>\n",
       "      <td>0</td>\n",
       "      <td>363272</td>\n",
       "      <td>7.0000</td>\n",
       "      <td>NaN</td>\n",
       "      <td>S</td>\n",
       "    </tr>\n",
       "    <tr>\n",
       "      <th>2</th>\n",
       "      <td>894</td>\n",
       "      <td>2</td>\n",
       "      <td>Myles, Mr. Thomas Francis</td>\n",
       "      <td>male</td>\n",
       "      <td>62.0</td>\n",
       "      <td>0</td>\n",
       "      <td>0</td>\n",
       "      <td>240276</td>\n",
       "      <td>9.6875</td>\n",
       "      <td>NaN</td>\n",
       "      <td>Q</td>\n",
       "    </tr>\n",
       "    <tr>\n",
       "      <th>3</th>\n",
       "      <td>895</td>\n",
       "      <td>3</td>\n",
       "      <td>Wirz, Mr. Albert</td>\n",
       "      <td>male</td>\n",
       "      <td>27.0</td>\n",
       "      <td>0</td>\n",
       "      <td>0</td>\n",
       "      <td>315154</td>\n",
       "      <td>8.6625</td>\n",
       "      <td>NaN</td>\n",
       "      <td>S</td>\n",
       "    </tr>\n",
       "    <tr>\n",
       "      <th>4</th>\n",
       "      <td>896</td>\n",
       "      <td>3</td>\n",
       "      <td>Hirvonen, Mrs. Alexander (Helga E Lindqvist)</td>\n",
       "      <td>female</td>\n",
       "      <td>22.0</td>\n",
       "      <td>1</td>\n",
       "      <td>1</td>\n",
       "      <td>3101298</td>\n",
       "      <td>12.2875</td>\n",
       "      <td>NaN</td>\n",
       "      <td>S</td>\n",
       "    </tr>\n",
       "  </tbody>\n",
       "</table>\n",
       "</div>"
      ],
      "text/plain": [
       "   PassengerId  Pclass                                          Name     Sex  \\\n",
       "0          892       3                              Kelly, Mr. James    male   \n",
       "1          893       3              Wilkes, Mrs. James (Ellen Needs)  female   \n",
       "2          894       2                     Myles, Mr. Thomas Francis    male   \n",
       "3          895       3                              Wirz, Mr. Albert    male   \n",
       "4          896       3  Hirvonen, Mrs. Alexander (Helga E Lindqvist)  female   \n",
       "\n",
       "    Age  SibSp  Parch   Ticket     Fare Cabin Embarked  \n",
       "0  34.5      0      0   330911   7.8292   NaN        Q  \n",
       "1  47.0      1      0   363272   7.0000   NaN        S  \n",
       "2  62.0      0      0   240276   9.6875   NaN        Q  \n",
       "3  27.0      0      0   315154   8.6625   NaN        S  \n",
       "4  22.0      1      1  3101298  12.2875   NaN        S  "
      ]
     },
     "execution_count": 16,
     "metadata": {},
     "output_type": "execute_result"
    }
   ],
   "source": [
    "# loading the test dataset\n",
    "test_titanic = pd.read_csv(\"../input/titanic/test.csv\")\n",
    "test_titanic.head()"
   ]
  },
  {
   "cell_type": "code",
   "execution_count": 17,
   "metadata": {
    "execution": {
     "iopub.execute_input": "2021-02-03T08:56:03.389567Z",
     "iopub.status.busy": "2021-02-03T08:56:03.388892Z",
     "iopub.status.idle": "2021-02-03T08:56:03.392182Z",
     "shell.execute_reply": "2021-02-03T08:56:03.391520Z"
    },
    "papermill": {
     "duration": 0.042748,
     "end_time": "2021-02-03T08:56:03.392334",
     "exception": false,
     "start_time": "2021-02-03T08:56:03.349586",
     "status": "completed"
    },
    "tags": []
   },
   "outputs": [],
   "source": [
    "# dropping columns\n",
    "test_titanic.drop(['Name', 'Cabin', 'Age'], axis=1, inplace=True)"
   ]
  },
  {
   "cell_type": "code",
   "execution_count": 18,
   "metadata": {
    "execution": {
     "iopub.execute_input": "2021-02-03T08:56:03.475940Z",
     "iopub.status.busy": "2021-02-03T08:56:03.475059Z",
     "iopub.status.idle": "2021-02-03T08:56:03.480973Z",
     "shell.execute_reply": "2021-02-03T08:56:03.480309Z"
    },
    "papermill": {
     "duration": 0.055638,
     "end_time": "2021-02-03T08:56:03.481129",
     "exception": false,
     "start_time": "2021-02-03T08:56:03.425491",
     "status": "completed"
    },
    "tags": []
   },
   "outputs": [
    {
     "name": "stdout",
     "output_type": "stream",
     "text": [
      "(418, 8)\n"
     ]
    },
    {
     "data": {
      "text/html": [
       "<div>\n",
       "<style scoped>\n",
       "    .dataframe tbody tr th:only-of-type {\n",
       "        vertical-align: middle;\n",
       "    }\n",
       "\n",
       "    .dataframe tbody tr th {\n",
       "        vertical-align: top;\n",
       "    }\n",
       "\n",
       "    .dataframe thead th {\n",
       "        text-align: right;\n",
       "    }\n",
       "</style>\n",
       "<table border=\"1\" class=\"dataframe\">\n",
       "  <thead>\n",
       "    <tr style=\"text-align: right;\">\n",
       "      <th></th>\n",
       "      <th>PassengerId</th>\n",
       "      <th>Pclass</th>\n",
       "      <th>Sex</th>\n",
       "      <th>SibSp</th>\n",
       "      <th>Parch</th>\n",
       "      <th>Ticket</th>\n",
       "      <th>Fare</th>\n",
       "      <th>Embarked</th>\n",
       "    </tr>\n",
       "  </thead>\n",
       "  <tbody>\n",
       "    <tr>\n",
       "      <th>0</th>\n",
       "      <td>892</td>\n",
       "      <td>Lower</td>\n",
       "      <td>male</td>\n",
       "      <td>0</td>\n",
       "      <td>0</td>\n",
       "      <td>330911</td>\n",
       "      <td>7.8292</td>\n",
       "      <td>Q</td>\n",
       "    </tr>\n",
       "    <tr>\n",
       "      <th>1</th>\n",
       "      <td>893</td>\n",
       "      <td>Lower</td>\n",
       "      <td>female</td>\n",
       "      <td>1</td>\n",
       "      <td>0</td>\n",
       "      <td>363272</td>\n",
       "      <td>7.0000</td>\n",
       "      <td>S</td>\n",
       "    </tr>\n",
       "    <tr>\n",
       "      <th>2</th>\n",
       "      <td>894</td>\n",
       "      <td>Middle</td>\n",
       "      <td>male</td>\n",
       "      <td>0</td>\n",
       "      <td>0</td>\n",
       "      <td>240276</td>\n",
       "      <td>9.6875</td>\n",
       "      <td>Q</td>\n",
       "    </tr>\n",
       "    <tr>\n",
       "      <th>3</th>\n",
       "      <td>895</td>\n",
       "      <td>Lower</td>\n",
       "      <td>male</td>\n",
       "      <td>0</td>\n",
       "      <td>0</td>\n",
       "      <td>315154</td>\n",
       "      <td>8.6625</td>\n",
       "      <td>S</td>\n",
       "    </tr>\n",
       "    <tr>\n",
       "      <th>4</th>\n",
       "      <td>896</td>\n",
       "      <td>Lower</td>\n",
       "      <td>female</td>\n",
       "      <td>1</td>\n",
       "      <td>1</td>\n",
       "      <td>3101298</td>\n",
       "      <td>12.2875</td>\n",
       "      <td>S</td>\n",
       "    </tr>\n",
       "  </tbody>\n",
       "</table>\n",
       "</div>"
      ],
      "text/plain": [
       "   PassengerId  Pclass     Sex  SibSp  Parch   Ticket     Fare Embarked\n",
       "0          892   Lower    male      0      0   330911   7.8292        Q\n",
       "1          893   Lower  female      1      0   363272   7.0000        S\n",
       "2          894  Middle    male      0      0   240276   9.6875        Q\n",
       "3          895   Lower    male      0      0   315154   8.6625        S\n",
       "4          896   Lower  female      1      1  3101298  12.2875        S"
      ]
     },
     "execution_count": 18,
     "metadata": {},
     "output_type": "execute_result"
    }
   ],
   "source": [
    "# changing pclass to categorical values\n",
    "test_titanic['Pclass'] = [dic[x] for x in test_titanic['Pclass']]\n",
    "print(test_titanic.shape)\n",
    "test_titanic.head()"
   ]
  },
  {
   "cell_type": "code",
   "execution_count": 19,
   "metadata": {
    "execution": {
     "iopub.execute_input": "2021-02-03T08:56:03.560543Z",
     "iopub.status.busy": "2021-02-03T08:56:03.558063Z",
     "iopub.status.idle": "2021-02-03T08:56:03.565160Z",
     "shell.execute_reply": "2021-02-03T08:56:03.565823Z"
    },
    "papermill": {
     "duration": 0.050828,
     "end_time": "2021-02-03T08:56:03.566038",
     "exception": false,
     "start_time": "2021-02-03T08:56:03.515210",
     "status": "completed"
    },
    "tags": []
   },
   "outputs": [
    {
     "name": "stdout",
     "output_type": "stream",
     "text": [
      "(418, 3)\n",
      "(418, 5)\n",
      "[[1. 0. 0. 0. 1.]\n",
      " [1. 0. 0. 1. 0.]]\n"
     ]
    }
   ],
   "source": [
    "# creating a model matrix for test dataset\n",
    "def encode_string(cat_features):\n",
    "    ## First encode the strings to numeric categories\n",
    "    enc = preprocessing.LabelEncoder()\n",
    "    enc.fit(cat_features)\n",
    "    enc_cat_features = enc.transform(cat_features)\n",
    "    ## Now, apply one hot encoding\n",
    "    ohe = preprocessing.OneHotEncoder()\n",
    "    encoded = ohe.fit(enc_cat_features.reshape(-1,1))\n",
    "    return encoded.transform(enc_cat_features.reshape(-1,1)).toarray()\n",
    "\n",
    "\n",
    "\n",
    "test_Features = encode_string(test_titanic['Pclass'])\n",
    "print(test_Features.shape)\n",
    "for col in categorical_columns:\n",
    "    temporary_test = encode_string(test_titanic[col])\n",
    "    test_Features = np.concatenate([test_Features, temporary_test], axis = 1)\n",
    "print(test_Features.shape)\n",
    "print(test_Features[:2, :])   "
   ]
  },
  {
   "cell_type": "code",
   "execution_count": 20,
   "metadata": {
    "execution": {
     "iopub.execute_input": "2021-02-03T08:56:03.641486Z",
     "iopub.status.busy": "2021-02-03T08:56:03.640732Z",
     "iopub.status.idle": "2021-02-03T08:56:03.646385Z",
     "shell.execute_reply": "2021-02-03T08:56:03.646925Z"
    },
    "papermill": {
     "duration": 0.046677,
     "end_time": "2021-02-03T08:56:03.647113",
     "exception": false,
     "start_time": "2021-02-03T08:56:03.600436",
     "status": "completed"
    },
    "tags": []
   },
   "outputs": [
    {
     "name": "stdout",
     "output_type": "stream",
     "text": [
      "(418, 7)\n",
      "[[1. 0. 0. 0. 1. 0. 0.]\n",
      " [1. 0. 0. 1. 0. 0. 1.]]\n"
     ]
    }
   ],
   "source": [
    "# adding numeric features\n",
    "test_Features = np.concatenate([test_Features, np.array(test_titanic[['Parch', 'SibSp']])], axis = 1)\n",
    "print(test_Features.shape)\n",
    "print(test_Features[:2, :]) "
   ]
  },
  {
   "cell_type": "code",
   "execution_count": 21,
   "metadata": {
    "execution": {
     "iopub.execute_input": "2021-02-03T08:56:03.723113Z",
     "iopub.status.busy": "2021-02-03T08:56:03.722315Z",
     "iopub.status.idle": "2021-02-03T08:56:03.725609Z",
     "shell.execute_reply": "2021-02-03T08:56:03.724939Z"
    },
    "papermill": {
     "duration": 0.043583,
     "end_time": "2021-02-03T08:56:03.725764",
     "exception": false,
     "start_time": "2021-02-03T08:56:03.682181",
     "status": "completed"
    },
    "tags": []
   },
   "outputs": [],
   "source": [
    "# defining train  dataset\n",
    "x_train = Features\n",
    "y_train = labels\n",
    "# defining test dataset\n",
    "x_test = test_Features"
   ]
  },
  {
   "cell_type": "code",
   "execution_count": 22,
   "metadata": {
    "execution": {
     "iopub.execute_input": "2021-02-03T08:56:03.804475Z",
     "iopub.status.busy": "2021-02-03T08:56:03.803742Z",
     "iopub.status.idle": "2021-02-03T08:56:03.810532Z",
     "shell.execute_reply": "2021-02-03T08:56:03.811162Z"
    },
    "papermill": {
     "duration": 0.049565,
     "end_time": "2021-02-03T08:56:03.811373",
     "exception": false,
     "start_time": "2021-02-03T08:56:03.761808",
     "status": "completed"
    },
    "tags": []
   },
   "outputs": [
    {
     "data": {
      "text/plain": [
       "array([[ 1.        ,  0.        ,  0.        ,  0.        ,  1.        ,\n",
       "        -0.50678737,  0.52251079],\n",
       "       [ 0.        ,  0.        ,  1.        ,  1.        ,  0.        ,\n",
       "        -0.50678737,  0.52251079]])"
      ]
     },
     "execution_count": 22,
     "metadata": {},
     "output_type": "execute_result"
    }
   ],
   "source": [
    "# rescaling of the numeric features\n",
    "scaler = preprocessing.StandardScaler().fit(x_train[:,5:])\n",
    "x_train[:,5:] = scaler.transform(x_train[:,5:])\n",
    "x_test[:,5:] = scaler.transform(x_test[:,5:])\n",
    "x_train[:2,]"
   ]
  },
  {
   "cell_type": "code",
   "execution_count": 23,
   "metadata": {
    "execution": {
     "iopub.execute_input": "2021-02-03T08:56:03.888770Z",
     "iopub.status.busy": "2021-02-03T08:56:03.888042Z",
     "iopub.status.idle": "2021-02-03T08:56:03.909135Z",
     "shell.execute_reply": "2021-02-03T08:56:03.908366Z"
    },
    "papermill": {
     "duration": 0.062057,
     "end_time": "2021-02-03T08:56:03.909321",
     "exception": false,
     "start_time": "2021-02-03T08:56:03.847264",
     "status": "completed"
    },
    "tags": []
   },
   "outputs": [
    {
     "data": {
      "text/plain": [
       "LogisticRegression()"
      ]
     },
     "execution_count": 23,
     "metadata": {},
     "output_type": "execute_result"
    }
   ],
   "source": [
    "# constructing the logistic regression model\n",
    "logistic_mod = linear_model.LogisticRegression() \n",
    "logistic_mod.fit(x_train, y_train)"
   ]
  },
  {
   "cell_type": "code",
   "execution_count": 24,
   "metadata": {
    "execution": {
     "iopub.execute_input": "2021-02-03T08:56:03.988917Z",
     "iopub.status.busy": "2021-02-03T08:56:03.987948Z",
     "iopub.status.idle": "2021-02-03T08:56:03.991405Z",
     "shell.execute_reply": "2021-02-03T08:56:03.991970Z"
    },
    "papermill": {
     "duration": 0.046186,
     "end_time": "2021-02-03T08:56:03.992177",
     "exception": false,
     "start_time": "2021-02-03T08:56:03.945991",
     "status": "completed"
    },
    "tags": []
   },
   "outputs": [
    {
     "name": "stdout",
     "output_type": "stream",
     "text": [
      "[0.0706021]\n",
      "[[-0.95438435  0.03204198  0.9223809   1.28233936 -1.28230082 -0.01018977\n",
      "  -0.16947135]]\n"
     ]
    }
   ],
   "source": [
    "# examining model coefficients\n",
    "print(logistic_mod.intercept_)\n",
    "print(logistic_mod.coef_)"
   ]
  },
  {
   "cell_type": "code",
   "execution_count": 25,
   "metadata": {
    "execution": {
     "iopub.execute_input": "2021-02-03T08:56:04.073723Z",
     "iopub.status.busy": "2021-02-03T08:56:04.072774Z",
     "iopub.status.idle": "2021-02-03T08:56:04.077080Z",
     "shell.execute_reply": "2021-02-03T08:56:04.076391Z"
    },
    "papermill": {
     "duration": 0.047979,
     "end_time": "2021-02-03T08:56:04.077242",
     "exception": false,
     "start_time": "2021-02-03T08:56:04.029263",
     "status": "completed"
    },
    "tags": []
   },
   "outputs": [
    {
     "name": "stdout",
     "output_type": "stream",
     "text": [
      "[[0.88767905 0.11232095]\n",
      " [0.42185317 0.57814683]\n",
      " [0.7466498  0.2533502 ]\n",
      " [0.88767905 0.11232095]\n",
      " [0.42476737 0.57523263]\n",
      " [0.88767905 0.11232095]\n",
      " [0.37815416 0.62184584]\n",
      " [0.78159421 0.21840579]\n",
      " [0.37815416 0.62184584]\n",
      " [0.91921208 0.08078792]\n",
      " [0.88767905 0.11232095]\n",
      " [0.54747769 0.45252231]\n",
      " [0.100477   0.899523  ]\n",
      " [0.77954955 0.22045045]\n",
      " [0.100477   0.899523  ]]\n"
     ]
    }
   ],
   "source": [
    "# computing class probability\n",
    "probabilities = logistic_mod.predict_proba(x_test)\n",
    "print(probabilities[:15,:])"
   ]
  },
  {
   "cell_type": "code",
   "execution_count": 26,
   "metadata": {
    "execution": {
     "iopub.execute_input": "2021-02-03T08:56:04.160512Z",
     "iopub.status.busy": "2021-02-03T08:56:04.159587Z",
     "iopub.status.idle": "2021-02-03T08:56:04.163387Z",
     "shell.execute_reply": "2021-02-03T08:56:04.163830Z"
    },
    "papermill": {
     "duration": 0.049779,
     "end_time": "2021-02-03T08:56:04.164059",
     "exception": false,
     "start_time": "2021-02-03T08:56:04.114280",
     "status": "completed"
    },
    "tags": []
   },
   "outputs": [
    {
     "name": "stdout",
     "output_type": "stream",
     "text": [
      "[0 1 0 0 1 0 1 0 1 0 0 0 1 0 1 1 0 0 1 1 0 0 1 0 1 0 1 0 0 0 0 0 1 1 0 0 1\n",
      " 1 0 0 0 0 0 1 1 0 0 0 1 1 0 0 1 1 0 0 0 0 0 1 0 0 0 1 0 1 1 0 0 1 1 0 1 0\n",
      " 1 0 0 1 0 1 0 0 0 0 0 0 1 1 1 0 1 0 1 0 0 0 1 0 1 0 1 0 0 0 1 0 0 0 0 0 0\n",
      " 1 1 1 1 0 0 1 0 1 1 0 1 0 0 1 0 1 0 0 0 0 1 0 0 0 0 0 1 0 0 1 0 0 0 0 0 0\n",
      " 0 0 1 0 0 1 0 0 1 1 0 1 1 0 1 0 0 1 0 0 1 1 0 0 0 0 0 1 1 0 1 1 0 0 1 0 1\n",
      " 0 1 0 0 0 0 0 0 0 0 0 0 1 0 1 1 0 0 1 0 0 1 0 1 0 0 0 0 1 0 0 1 0 1 0 1 0\n",
      " 1 0 1 1 0 1 0 0 0 1 0 0 0 0 0 0 1 1 1 1 0 0 0 0 1 0 1 1 1 0 0 0 0 0 0 0 1\n",
      " 0 0 0 1 1 0 0 0 0 1 0 0 0 1 1 0 1 0 0 0 0 1 0 1 1 1 0 0 0 0 0 0 1 0 0 0 0\n",
      " 1 0 0 0 0 0 0 0 1 1 0 0 0 1 0 0 0 1 1 1 0 0 0 0 0 0 0 0 1 0 1 0 0 0 1 0 0\n",
      " 1 0 0 0 0 0 0 0 0 0 1 0 1 0 1 0 1 1 0 0 0 1 0 1 0 0 1 0 1 1 0 1 1 0 1 1 0\n",
      " 0 1 0 0 1 1 1 0 0 0 0 0 1 1 0 1 0 0 0 0 0 1 0 0 0 1 0 1 0 0 1 0 1 0 0 0 0\n",
      " 0 1 1 1 1 1 0 1 0 0 0]\n"
     ]
    }
   ],
   "source": [
    "# scoring the model\n",
    "def score_model(probs, threshold):\n",
    "    return np.array([1 if x > threshold else 0 for x in probs[:,1]])\n",
    "scores = score_model(probabilities, 0.5)\n",
    "print(np.array(scores))"
   ]
  },
  {
   "cell_type": "code",
   "execution_count": 27,
   "metadata": {
    "execution": {
     "iopub.execute_input": "2021-02-03T08:56:04.247426Z",
     "iopub.status.busy": "2021-02-03T08:56:04.246395Z",
     "iopub.status.idle": "2021-02-03T08:56:04.254668Z",
     "shell.execute_reply": "2021-02-03T08:56:04.253837Z"
    },
    "papermill": {
     "duration": 0.053183,
     "end_time": "2021-02-03T08:56:04.254850",
     "exception": false,
     "start_time": "2021-02-03T08:56:04.201667",
     "status": "completed"
    },
    "tags": []
   },
   "outputs": [
    {
     "data": {
      "text/html": [
       "<div>\n",
       "<style scoped>\n",
       "    .dataframe tbody tr th:only-of-type {\n",
       "        vertical-align: middle;\n",
       "    }\n",
       "\n",
       "    .dataframe tbody tr th {\n",
       "        vertical-align: top;\n",
       "    }\n",
       "\n",
       "    .dataframe thead th {\n",
       "        text-align: right;\n",
       "    }\n",
       "</style>\n",
       "<table border=\"1\" class=\"dataframe\">\n",
       "  <thead>\n",
       "    <tr style=\"text-align: right;\">\n",
       "      <th></th>\n",
       "      <th>Survived</th>\n",
       "    </tr>\n",
       "  </thead>\n",
       "  <tbody>\n",
       "    <tr>\n",
       "      <th>0</th>\n",
       "      <td>0</td>\n",
       "    </tr>\n",
       "    <tr>\n",
       "      <th>1</th>\n",
       "      <td>1</td>\n",
       "    </tr>\n",
       "    <tr>\n",
       "      <th>2</th>\n",
       "      <td>0</td>\n",
       "    </tr>\n",
       "    <tr>\n",
       "      <th>3</th>\n",
       "      <td>0</td>\n",
       "    </tr>\n",
       "    <tr>\n",
       "      <th>4</th>\n",
       "      <td>1</td>\n",
       "    </tr>\n",
       "  </tbody>\n",
       "</table>\n",
       "</div>"
      ],
      "text/plain": [
       "   Survived\n",
       "0         0\n",
       "1         1\n",
       "2         0\n",
       "3         0\n",
       "4         1"
      ]
     },
     "execution_count": 27,
     "metadata": {},
     "output_type": "execute_result"
    }
   ],
   "source": [
    "# creating dataframe of the scores\n",
    "scores_df = pd.DataFrame(scores)\n",
    "scores_df.columns = ['Survived']\n",
    "scores_df.head()"
   ]
  },
  {
   "cell_type": "code",
   "execution_count": 28,
   "metadata": {
    "execution": {
     "iopub.execute_input": "2021-02-03T08:56:04.343454Z",
     "iopub.status.busy": "2021-02-03T08:56:04.342333Z",
     "iopub.status.idle": "2021-02-03T08:56:04.347010Z",
     "shell.execute_reply": "2021-02-03T08:56:04.346360Z"
    },
    "papermill": {
     "duration": 0.053961,
     "end_time": "2021-02-03T08:56:04.347166",
     "exception": false,
     "start_time": "2021-02-03T08:56:04.293205",
     "status": "completed"
    },
    "tags": []
   },
   "outputs": [
    {
     "data": {
      "text/html": [
       "<div>\n",
       "<style scoped>\n",
       "    .dataframe tbody tr th:only-of-type {\n",
       "        vertical-align: middle;\n",
       "    }\n",
       "\n",
       "    .dataframe tbody tr th {\n",
       "        vertical-align: top;\n",
       "    }\n",
       "\n",
       "    .dataframe thead th {\n",
       "        text-align: right;\n",
       "    }\n",
       "</style>\n",
       "<table border=\"1\" class=\"dataframe\">\n",
       "  <thead>\n",
       "    <tr style=\"text-align: right;\">\n",
       "      <th></th>\n",
       "      <th>PassengerId</th>\n",
       "      <th>Survived</th>\n",
       "    </tr>\n",
       "  </thead>\n",
       "  <tbody>\n",
       "    <tr>\n",
       "      <th>0</th>\n",
       "      <td>892</td>\n",
       "      <td>0</td>\n",
       "    </tr>\n",
       "    <tr>\n",
       "      <th>1</th>\n",
       "      <td>893</td>\n",
       "      <td>1</td>\n",
       "    </tr>\n",
       "    <tr>\n",
       "      <th>2</th>\n",
       "      <td>894</td>\n",
       "      <td>0</td>\n",
       "    </tr>\n",
       "    <tr>\n",
       "      <th>3</th>\n",
       "      <td>895</td>\n",
       "      <td>0</td>\n",
       "    </tr>\n",
       "    <tr>\n",
       "      <th>4</th>\n",
       "      <td>896</td>\n",
       "      <td>1</td>\n",
       "    </tr>\n",
       "  </tbody>\n",
       "</table>\n",
       "</div>"
      ],
      "text/plain": [
       "   PassengerId  Survived\n",
       "0          892         0\n",
       "1          893         1\n",
       "2          894         0\n",
       "3          895         0\n",
       "4          896         1"
      ]
     },
     "execution_count": 28,
     "metadata": {},
     "output_type": "execute_result"
    }
   ],
   "source": [
    "# joining passengerid and scores\n",
    "titanic_submission = pd.concat([test_titanic[['PassengerId']], scores_df], axis=1)\n",
    "titanic_submission.head()"
   ]
  },
  {
   "cell_type": "code",
   "execution_count": 29,
   "metadata": {
    "execution": {
     "iopub.execute_input": "2021-02-03T08:56:04.429657Z",
     "iopub.status.busy": "2021-02-03T08:56:04.428625Z",
     "iopub.status.idle": "2021-02-03T08:56:04.437560Z",
     "shell.execute_reply": "2021-02-03T08:56:04.438038Z"
    },
    "papermill": {
     "duration": 0.052772,
     "end_time": "2021-02-03T08:56:04.438237",
     "exception": false,
     "start_time": "2021-02-03T08:56:04.385465",
     "status": "completed"
    },
    "tags": []
   },
   "outputs": [
    {
     "name": "stdout",
     "output_type": "stream",
     "text": [
      "Submission was successfully saved!\n"
     ]
    }
   ],
   "source": [
    "# saving the titanic_submission dataframe as csv\n",
    "titanic_submission.to_csv('titanic_submission.csv', index=False)\n",
    "print(\"Submission was successfully saved!\")"
   ]
  }
 ],
 "metadata": {
  "kernelspec": {
   "display_name": "Python 3",
   "language": "python",
   "name": "python3"
  },
  "language_info": {
   "codemirror_mode": {
    "name": "ipython",
    "version": 3
   },
   "file_extension": ".py",
   "mimetype": "text/x-python",
   "name": "python",
   "nbconvert_exporter": "python",
   "pygments_lexer": "ipython3",
   "version": "3.7.9"
  },
  "papermill": {
   "default_parameters": {},
   "duration": 12.510166,
   "end_time": "2021-02-03T08:56:05.288438",
   "environment_variables": {},
   "exception": null,
   "input_path": "__notebook__.ipynb",
   "output_path": "__notebook__.ipynb",
   "parameters": {},
   "start_time": "2021-02-03T08:55:52.778272",
   "version": "2.2.2"
  }
 },
 "nbformat": 4,
 "nbformat_minor": 4
}
